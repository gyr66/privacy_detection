{
 "cells": [
  {
   "cell_type": "code",
   "execution_count": 2,
   "metadata": {},
   "outputs": [],
   "source": [
    "import os\n",
    "import pandas as pd\n",
    "\n",
    "root_path = 'data/original/train'\n",
    "data_path = os.path.join(root_path, 'text')\n",
    "label_path = os.path.join(root_path, 'label')"
   ]
  },
  {
   "cell_type": "markdown",
   "metadata": {},
   "source": [
    "## 将数据合并到一个csv中"
   ]
  },
  {
   "cell_type": "code",
   "execution_count": 28,
   "metadata": {},
   "outputs": [],
   "source": [
    "data = {\n",
    "    'ID': [],\n",
    "    'Text': []\n",
    "}\n",
    "\n",
    "for filename in sorted(os.listdir(data_path), key=lambda x: int(x.split('.')[0])):\n",
    "    if filename.endswith('.txt'):\n",
    "        id = filename[:-4]\n",
    "        data['ID'].append(id)\n",
    "        with open(os.path.join(data_path, filename), 'r') as file:\n",
    "            text = file.read()\n",
    "            data['Text'].append(text)\n",
    "\n",
    "data = pd.DataFrame(data)\n",
    "data = data.astype({\n",
    "    'ID': str,\n",
    "    'Text': str\n",
    "})\n",
    "# data.to_csv('data.csv', index=False)"
   ]
  },
  {
   "cell_type": "code",
   "execution_count": 29,
   "metadata": {},
   "outputs": [
    {
     "data": {
      "text/plain": [
       "ID      object\n",
       "Text    object\n",
       "dtype: object"
      ]
     },
     "execution_count": 29,
     "metadata": {},
     "output_type": "execute_result"
    }
   ],
   "source": [
    "data.dtypes"
   ]
  },
  {
   "cell_type": "code",
   "execution_count": 30,
   "metadata": {},
   "outputs": [
    {
     "name": "stdout",
     "output_type": "stream",
     "text": [
      "3956\n"
     ]
    },
    {
     "data": {
      "text/html": [
       "<div>\n",
       "<style scoped>\n",
       "    .dataframe tbody tr th:only-of-type {\n",
       "        vertical-align: middle;\n",
       "    }\n",
       "\n",
       "    .dataframe tbody tr th {\n",
       "        vertical-align: top;\n",
       "    }\n",
       "\n",
       "    .dataframe thead th {\n",
       "        text-align: right;\n",
       "    }\n",
       "</style>\n",
       "<table border=\"1\" class=\"dataframe\">\n",
       "  <thead>\n",
       "    <tr style=\"text-align: right;\">\n",
       "      <th></th>\n",
       "      <th>ID</th>\n",
       "      <th>Text</th>\n",
       "    </tr>\n",
       "  </thead>\n",
       "  <tbody>\n",
       "    <tr>\n",
       "      <th>3951</th>\n",
       "      <td>3951</td>\n",
       "      <td>来自土耳其的加拉塔萨雷上上赛季主场输给埃因霍温，随后战胜利物浦。本场看好3/0打出。</td>\n",
       "    </tr>\n",
       "    <tr>\n",
       "      <th>3952</th>\n",
       "      <td>3952</td>\n",
       "      <td>何以如此？据笔者了解，自从中国银行业协会提出“银行受理客户7折房贷利率优惠申请不得搭售其他金...</td>\n",
       "    </tr>\n",
       "    <tr>\n",
       "      <th>3953</th>\n",
       "      <td>3953</td>\n",
       "      <td>台湾《大魔竞》总冠军，湖南卫视金牌魔术团金牌魔术师，央视《时尚中国》时尚金牌魔术师＜我要上春...</td>\n",
       "    </tr>\n",
       "    <tr>\n",
       "      <th>3954</th>\n",
       "      <td>3954</td>\n",
       "      <td>小爽是一名基层女民警，与男同志一样参加值班执勤，管理社区，巡逻破案与治安防范，快乐工作幸福生...</td>\n",
       "    </tr>\n",
       "    <tr>\n",
       "      <th>3955</th>\n",
       "      <td>3955</td>\n",
       "      <td>上赛季德甲主队3胜1平。博天堂平赔高达3.30，两队战和可能最小。</td>\n",
       "    </tr>\n",
       "  </tbody>\n",
       "</table>\n",
       "</div>"
      ],
      "text/plain": [
       "        ID                                               Text\n",
       "3951  3951         来自土耳其的加拉塔萨雷上上赛季主场输给埃因霍温，随后战胜利物浦。本场看好3/0打出。\n",
       "3952  3952  何以如此？据笔者了解，自从中国银行业协会提出“银行受理客户7折房贷利率优惠申请不得搭售其他金...\n",
       "3953  3953  台湾《大魔竞》总冠军，湖南卫视金牌魔术团金牌魔术师，央视《时尚中国》时尚金牌魔术师＜我要上春...\n",
       "3954  3954  小爽是一名基层女民警，与男同志一样参加值班执勤，管理社区，巡逻破案与治安防范，快乐工作幸福生...\n",
       "3955  3955                  上赛季德甲主队3胜1平。博天堂平赔高达3.30，两队战和可能最小。"
      ]
     },
     "execution_count": 30,
     "metadata": {},
     "output_type": "execute_result"
    }
   ],
   "source": [
    "print(len(data))\n",
    "data.tail(5)"
   ]
  },
  {
   "cell_type": "code",
   "execution_count": 3,
   "metadata": {},
   "outputs": [
    {
     "ename": "FileNotFoundError",
     "evalue": "[WinError 3] 系统找不到指定的路径。: 'data/original/train\\\\label'",
     "output_type": "error",
     "traceback": [
      "\u001b[1;31m---------------------------------------------------------------------------\u001b[0m",
      "\u001b[1;31mFileNotFoundError\u001b[0m                         Traceback (most recent call last)",
      "\u001b[1;32mc:\\Users\\Administrator\\Desktop\\2024-2025-1学期\\高级人工智能\\大作业\\privacy_detection\\preprocess.ipynb Cell 6\u001b[0m line \u001b[0;36m3\n\u001b[0;32m      <a href='vscode-notebook-cell:/c%3A/Users/Administrator/Desktop/2024-2025-1%E5%AD%A6%E6%9C%9F/%E9%AB%98%E7%BA%A7%E4%BA%BA%E5%B7%A5%E6%99%BA%E8%83%BD/%E5%A4%A7%E4%BD%9C%E4%B8%9A/privacy_detection/preprocess.ipynb#W5sZmlsZQ%3D%3D?line=0'>1</a>\u001b[0m labels \u001b[39m=\u001b[39m []\n\u001b[1;32m----> <a href='vscode-notebook-cell:/c%3A/Users/Administrator/Desktop/2024-2025-1%E5%AD%A6%E6%9C%9F/%E9%AB%98%E7%BA%A7%E4%BA%BA%E5%B7%A5%E6%99%BA%E8%83%BD/%E5%A4%A7%E4%BD%9C%E4%B8%9A/privacy_detection/preprocess.ipynb#W5sZmlsZQ%3D%3D?line=2'>3</a>\u001b[0m \u001b[39mfor\u001b[39;00m filename \u001b[39min\u001b[39;00m \u001b[39msorted\u001b[39m(os\u001b[39m.\u001b[39;49mlistdir(label_path), key\u001b[39m=\u001b[39m\u001b[39mlambda\u001b[39;00m x: \u001b[39mint\u001b[39m(x\u001b[39m.\u001b[39msplit(\u001b[39m'\u001b[39m\u001b[39m.\u001b[39m\u001b[39m'\u001b[39m)[\u001b[39m0\u001b[39m])):\n\u001b[0;32m      <a href='vscode-notebook-cell:/c%3A/Users/Administrator/Desktop/2024-2025-1%E5%AD%A6%E6%9C%9F/%E9%AB%98%E7%BA%A7%E4%BA%BA%E5%B7%A5%E6%99%BA%E8%83%BD/%E5%A4%A7%E4%BD%9C%E4%B8%9A/privacy_detection/preprocess.ipynb#W5sZmlsZQ%3D%3D?line=3'>4</a>\u001b[0m     \u001b[39mif\u001b[39;00m filename\u001b[39m.\u001b[39mendswith(\u001b[39m'\u001b[39m\u001b[39m.csv\u001b[39m\u001b[39m'\u001b[39m):\n\u001b[0;32m      <a href='vscode-notebook-cell:/c%3A/Users/Administrator/Desktop/2024-2025-1%E5%AD%A6%E6%9C%9F/%E9%AB%98%E7%BA%A7%E4%BA%BA%E5%B7%A5%E6%99%BA%E8%83%BD/%E5%A4%A7%E4%BD%9C%E4%B8%9A/privacy_detection/preprocess.ipynb#W5sZmlsZQ%3D%3D?line=4'>5</a>\u001b[0m         label \u001b[39m=\u001b[39m pd\u001b[39m.\u001b[39mread_csv(os\u001b[39m.\u001b[39mpath\u001b[39m.\u001b[39mjoin(label_path, filename), dtype\u001b[39m=\u001b[39m{\n\u001b[0;32m      <a href='vscode-notebook-cell:/c%3A/Users/Administrator/Desktop/2024-2025-1%E5%AD%A6%E6%9C%9F/%E9%AB%98%E7%BA%A7%E4%BA%BA%E5%B7%A5%E6%99%BA%E8%83%BD/%E5%A4%A7%E4%BD%9C%E4%B8%9A/privacy_detection/preprocess.ipynb#W5sZmlsZQ%3D%3D?line=5'>6</a>\u001b[0m             \u001b[39m'\u001b[39m\u001b[39mID\u001b[39m\u001b[39m'\u001b[39m: \u001b[39mstr\u001b[39m,\n\u001b[0;32m      <a href='vscode-notebook-cell:/c%3A/Users/Administrator/Desktop/2024-2025-1%E5%AD%A6%E6%9C%9F/%E9%AB%98%E7%BA%A7%E4%BA%BA%E5%B7%A5%E6%99%BA%E8%83%BD/%E5%A4%A7%E4%BD%9C%E4%B8%9A/privacy_detection/preprocess.ipynb#W5sZmlsZQ%3D%3D?line=6'>7</a>\u001b[0m             \u001b[39m'\u001b[39m\u001b[39mCategory\u001b[39m\u001b[39m'\u001b[39m: \u001b[39mstr\u001b[39m,\n\u001b[1;32m   (...)\u001b[0m\n\u001b[0;32m     <a href='vscode-notebook-cell:/c%3A/Users/Administrator/Desktop/2024-2025-1%E5%AD%A6%E6%9C%9F/%E9%AB%98%E7%BA%A7%E4%BA%BA%E5%B7%A5%E6%99%BA%E8%83%BD/%E5%A4%A7%E4%BD%9C%E4%B8%9A/privacy_detection/preprocess.ipynb#W5sZmlsZQ%3D%3D?line=9'>10</a>\u001b[0m             \u001b[39m'\u001b[39m\u001b[39mPrivacy\u001b[39m\u001b[39m'\u001b[39m: \u001b[39mstr\u001b[39m\n\u001b[0;32m     <a href='vscode-notebook-cell:/c%3A/Users/Administrator/Desktop/2024-2025-1%E5%AD%A6%E6%9C%9F/%E9%AB%98%E7%BA%A7%E4%BA%BA%E5%B7%A5%E6%99%BA%E8%83%BD/%E5%A4%A7%E4%BD%9C%E4%B8%9A/privacy_detection/preprocess.ipynb#W5sZmlsZQ%3D%3D?line=10'>11</a>\u001b[0m         })\n",
      "\u001b[1;31mFileNotFoundError\u001b[0m: [WinError 3] 系统找不到指定的路径。: 'data/original/train\\\\label'"
     ]
    }
   ],
   "source": [
    "labels = []\n",
    "\n",
    "for filename in sorted(os.listdir(label_path), key=lambda x: int(x.split('.')[0])):\n",
    "    if filename.endswith('.csv'):\n",
    "        label = pd.read_csv(os.path.join(label_path, filename), dtype={\n",
    "            'ID': str,\n",
    "            'Category': str,\n",
    "            'Pos_b': int,\n",
    "            'Pos_e': int,\n",
    "            'Privacy': str\n",
    "        })\n",
    "        labels.append(label)\n",
    "\n",
    "labels = pd.concat(labels)\n",
    "# labels.to_csv('label.csv', index=False)"
   ]
  },
  {
   "cell_type": "code",
   "execution_count": 10,
   "metadata": {},
   "outputs": [
    {
     "data": {
      "text/plain": [
       "ID          object\n",
       "Category    object\n",
       "Pos_b        int64\n",
       "Pos_e        int64\n",
       "Privacy     object\n",
       "dtype: object"
      ]
     },
     "execution_count": 10,
     "metadata": {},
     "output_type": "execute_result"
    }
   ],
   "source": [
    "labels.dtypes"
   ]
  },
  {
   "cell_type": "code",
   "execution_count": 11,
   "metadata": {},
   "outputs": [
    {
     "name": "stdout",
     "output_type": "stream",
     "text": [
      "20503\n",
      "2515\n"
     ]
    },
    {
     "data": {
      "text/html": [
       "<div>\n",
       "<style scoped>\n",
       "    .dataframe tbody tr th:only-of-type {\n",
       "        vertical-align: middle;\n",
       "    }\n",
       "\n",
       "    .dataframe tbody tr th {\n",
       "        vertical-align: top;\n",
       "    }\n",
       "\n",
       "    .dataframe thead th {\n",
       "        text-align: right;\n",
       "    }\n",
       "</style>\n",
       "<table border=\"1\" class=\"dataframe\">\n",
       "  <thead>\n",
       "    <tr style=\"text-align: right;\">\n",
       "      <th></th>\n",
       "      <th>ID</th>\n",
       "      <th>Category</th>\n",
       "      <th>Pos_b</th>\n",
       "      <th>Pos_e</th>\n",
       "      <th>Privacy</th>\n",
       "    </tr>\n",
       "  </thead>\n",
       "  <tbody>\n",
       "    <tr>\n",
       "      <th>4</th>\n",
       "      <td>2513</td>\n",
       "      <td>address</td>\n",
       "      <td>16</td>\n",
       "      <td>19</td>\n",
       "      <td>馬來西亞</td>\n",
       "    </tr>\n",
       "    <tr>\n",
       "      <th>5</th>\n",
       "      <td>2513</td>\n",
       "      <td>address</td>\n",
       "      <td>5</td>\n",
       "      <td>6</td>\n",
       "      <td>中國</td>\n",
       "    </tr>\n",
       "    <tr>\n",
       "      <th>6</th>\n",
       "      <td>2513</td>\n",
       "      <td>address</td>\n",
       "      <td>33</td>\n",
       "      <td>36</td>\n",
       "      <td>马来西亚</td>\n",
       "    </tr>\n",
       "    <tr>\n",
       "      <th>0</th>\n",
       "      <td>2514</td>\n",
       "      <td>QQ</td>\n",
       "      <td>6</td>\n",
       "      <td>14</td>\n",
       "      <td>229215757</td>\n",
       "    </tr>\n",
       "    <tr>\n",
       "      <th>1</th>\n",
       "      <td>2514</td>\n",
       "      <td>organization</td>\n",
       "      <td>91</td>\n",
       "      <td>95</td>\n",
       "      <td>平均律乐队</td>\n",
       "    </tr>\n",
       "  </tbody>\n",
       "</table>\n",
       "</div>"
      ],
      "text/plain": [
       "     ID      Category  Pos_b  Pos_e    Privacy\n",
       "4  2513       address     16     19       馬來西亞\n",
       "5  2513       address      5      6         中國\n",
       "6  2513       address     33     36       马来西亚\n",
       "0  2514            QQ      6     14  229215757\n",
       "1  2514  organization     91     95      平均律乐队"
      ]
     },
     "execution_count": 11,
     "metadata": {},
     "output_type": "execute_result"
    }
   ],
   "source": [
    "print(len(labels))\n",
    "print(labels['ID'].nunique())\n",
    "labels.tail(5)"
   ]
  },
  {
   "cell_type": "markdown",
   "metadata": {},
   "source": [
    "## 获取所有类别(Category)"
   ]
  },
  {
   "cell_type": "code",
   "execution_count": 12,
   "metadata": {},
   "outputs": [
    {
     "data": {
      "text/plain": [
       "['O',\n",
       " 'B-position',\n",
       " 'I-position',\n",
       " 'B-name',\n",
       " 'I-name',\n",
       " 'B-movie',\n",
       " 'I-movie',\n",
       " 'B-organization',\n",
       " 'I-organization',\n",
       " 'B-company',\n",
       " 'I-company',\n",
       " 'B-book',\n",
       " 'I-book',\n",
       " 'B-address',\n",
       " 'I-address',\n",
       " 'B-scene',\n",
       " 'I-scene',\n",
       " 'B-mobile',\n",
       " 'I-mobile',\n",
       " 'B-email',\n",
       " 'I-email',\n",
       " 'B-game',\n",
       " 'I-game',\n",
       " 'B-government',\n",
       " 'I-government',\n",
       " 'B-QQ',\n",
       " 'I-QQ',\n",
       " 'B-vx',\n",
       " 'I-vx']"
      ]
     },
     "execution_count": 12,
     "metadata": {},
     "output_type": "execute_result"
    }
   ],
   "source": [
    "categories = labels['Category'].unique()\n",
    "categories = ['O'] + [f\"{prefix}-{category}\" for category in categories for prefix in ('B', 'I')]\n",
    "categories"
   ]
  },
  {
   "cell_type": "code",
   "execution_count": 13,
   "metadata": {},
   "outputs": [
    {
     "data": {
      "text/plain": [
       "{'O': 0,\n",
       " 'B-position': 1,\n",
       " 'I-position': 2,\n",
       " 'B-name': 3,\n",
       " 'I-name': 4,\n",
       " 'B-movie': 5,\n",
       " 'I-movie': 6,\n",
       " 'B-organization': 7,\n",
       " 'I-organization': 8,\n",
       " 'B-company': 9,\n",
       " 'I-company': 10,\n",
       " 'B-book': 11,\n",
       " 'I-book': 12,\n",
       " 'B-address': 13,\n",
       " 'I-address': 14,\n",
       " 'B-scene': 15,\n",
       " 'I-scene': 16,\n",
       " 'B-mobile': 17,\n",
       " 'I-mobile': 18,\n",
       " 'B-email': 19,\n",
       " 'I-email': 20,\n",
       " 'B-game': 21,\n",
       " 'I-game': 22,\n",
       " 'B-government': 23,\n",
       " 'I-government': 24,\n",
       " 'B-QQ': 25,\n",
       " 'I-QQ': 26,\n",
       " 'B-vx': 27,\n",
       " 'I-vx': 28}"
      ]
     },
     "execution_count": 13,
     "metadata": {},
     "output_type": "execute_result"
    }
   ],
   "source": [
    "category2idx = {label: index for index, label in enumerate(categories)}\n",
    "category2idx"
   ]
  },
  {
   "cell_type": "markdown",
   "metadata": {},
   "source": [
    "## 对齐Text和Label"
   ]
  },
  {
   "cell_type": "code",
   "execution_count": 14,
   "metadata": {},
   "outputs": [],
   "source": [
    "transformed_labels = []\n",
    "for _, row in data.iterrows():\n",
    "  text = row['Text']\n",
    "  id = row['ID']\n",
    "  labels_for_text = labels[labels['ID'] == row['ID']]\n",
    "  transformed_label = ['O' for _ in range(len(text))]\n",
    "  for _, label_row in labels_for_text.iterrows():\n",
    "    start = label_row['Pos_b']\n",
    "    end = label_row['Pos_e']\n",
    "    assert text[start : end + 1] == label_row['Privacy'], '标签位置和文本不匹配'\n",
    "    category = label_row['Category']\n",
    "    transformed_label[start] = 'B-' + category\n",
    "    for i in range(start + 1, end + 1):\n",
    "      transformed_label[i] = 'I-' + category\n",
    "  transformed_labels.append(transformed_label)\n",
    "data['Label'] = transformed_labels"
   ]
  },
  {
   "cell_type": "code",
   "execution_count": 15,
   "metadata": {},
   "outputs": [
    {
     "data": {
      "text/html": [
       "<div>\n",
       "<style scoped>\n",
       "    .dataframe tbody tr th:only-of-type {\n",
       "        vertical-align: middle;\n",
       "    }\n",
       "\n",
       "    .dataframe tbody tr th {\n",
       "        vertical-align: top;\n",
       "    }\n",
       "\n",
       "    .dataframe thead th {\n",
       "        text-align: right;\n",
       "    }\n",
       "</style>\n",
       "<table border=\"1\" class=\"dataframe\">\n",
       "  <thead>\n",
       "    <tr style=\"text-align: right;\">\n",
       "      <th></th>\n",
       "      <th>ID</th>\n",
       "      <th>Text</th>\n",
       "      <th>Label</th>\n",
       "    </tr>\n",
       "  </thead>\n",
       "  <tbody>\n",
       "    <tr>\n",
       "      <th>2510</th>\n",
       "      <td>2510</td>\n",
       "      <td>“这起案件之所以近半年才暴露，完全是因李云飞钻了信用卡使用过程中的空子。”民警告诉记者，sk...</td>\n",
       "      <td>[O, O, O, O, O, O, O, O, O, O, O, O, O, O, O, ...</td>\n",
       "    </tr>\n",
       "    <tr>\n",
       "      <th>2511</th>\n",
       "      <td>2511</td>\n",
       "      <td>《前线任务》系列是1995年发源于超级任天堂的机器人战略游戏，游戏由THQ旗下的KAOSST...</td>\n",
       "      <td>[B-game, I-game, I-game, I-game, I-game, I-gam...</td>\n",
       "    </tr>\n",
       "    <tr>\n",
       "      <th>2512</th>\n",
       "      <td>2512</td>\n",
       "      <td>还能在著名的雅拉河中坐游船感受南半球最大的港口风光哦。</td>\n",
       "      <td>[O, O, O, O, O, O, B-scene, I-scene, I-scene, ...</td>\n",
       "    </tr>\n",
       "    <tr>\n",
       "      <th>2513</th>\n",
       "      <td>2513</td>\n",
       "      <td>馬來西亞、中國演員、藝人.香港，馬來西亞及内地工作請私信本人作品：马来西亚-情牵南苑（玉兰，...</td>\n",
       "      <td>[B-address, I-address, I-address, I-address, O...</td>\n",
       "    </tr>\n",
       "    <tr>\n",
       "      <th>2514</th>\n",
       "      <td>2514</td>\n",
       "      <td>QQ交流群：229215757人人网：http://www.renren.com/27114...</td>\n",
       "      <td>[O, O, O, O, O, O, B-QQ, I-QQ, I-QQ, I-QQ, I-Q...</td>\n",
       "    </tr>\n",
       "  </tbody>\n",
       "</table>\n",
       "</div>"
      ],
      "text/plain": [
       "        ID                                               Text  \\\n",
       "2510  2510  “这起案件之所以近半年才暴露，完全是因李云飞钻了信用卡使用过程中的空子。”民警告诉记者，sk...   \n",
       "2511  2511  《前线任务》系列是1995年发源于超级任天堂的机器人战略游戏，游戏由THQ旗下的KAOSST...   \n",
       "2512  2512                        还能在著名的雅拉河中坐游船感受南半球最大的港口风光哦。   \n",
       "2513  2513  馬來西亞、中國演員、藝人.香港，馬來西亞及内地工作請私信本人作品：马来西亚-情牵南苑（玉兰，...   \n",
       "2514  2514  QQ交流群：229215757人人网：http://www.renren.com/27114...   \n",
       "\n",
       "                                                  Label  \n",
       "2510  [O, O, O, O, O, O, O, O, O, O, O, O, O, O, O, ...  \n",
       "2511  [B-game, I-game, I-game, I-game, I-game, I-gam...  \n",
       "2512  [O, O, O, O, O, O, B-scene, I-scene, I-scene, ...  \n",
       "2513  [B-address, I-address, I-address, I-address, O...  \n",
       "2514  [O, O, O, O, O, O, B-QQ, I-QQ, I-QQ, I-QQ, I-Q...  "
      ]
     },
     "execution_count": 15,
     "metadata": {},
     "output_type": "execute_result"
    }
   ],
   "source": [
    "data.tail(5)"
   ]
  },
  {
   "cell_type": "markdown",
   "metadata": {},
   "source": [
    "## Tokenize Text"
   ]
  },
  {
   "cell_type": "code",
   "execution_count": 31,
   "metadata": {},
   "outputs": [],
   "source": [
    "data['Text'] = data['Text'].apply(list)"
   ]
  },
  {
   "cell_type": "code",
   "execution_count": 17,
   "metadata": {},
   "outputs": [
    {
     "data": {
      "text/plain": [
       "False"
      ]
     },
     "execution_count": 17,
     "metadata": {},
     "output_type": "execute_result"
    }
   ],
   "source": [
    "data.apply(lambda row: len(row.Text) != len(row.Label), axis=1).any()"
   ]
  },
  {
   "cell_type": "code",
   "execution_count": 18,
   "metadata": {},
   "outputs": [
    {
     "data": {
      "text/html": [
       "<div>\n",
       "<style scoped>\n",
       "    .dataframe tbody tr th:only-of-type {\n",
       "        vertical-align: middle;\n",
       "    }\n",
       "\n",
       "    .dataframe tbody tr th {\n",
       "        vertical-align: top;\n",
       "    }\n",
       "\n",
       "    .dataframe thead th {\n",
       "        text-align: right;\n",
       "    }\n",
       "</style>\n",
       "<table border=\"1\" class=\"dataframe\">\n",
       "  <thead>\n",
       "    <tr style=\"text-align: right;\">\n",
       "      <th></th>\n",
       "      <th>ID</th>\n",
       "      <th>Text</th>\n",
       "      <th>Label</th>\n",
       "    </tr>\n",
       "  </thead>\n",
       "  <tbody>\n",
       "    <tr>\n",
       "      <th>2510</th>\n",
       "      <td>2510</td>\n",
       "      <td>[“, 这, 起, 案, 件, 之, 所, 以, 近, 半, 年, 才, 暴, 露, ，, ...</td>\n",
       "      <td>[O, O, O, O, O, O, O, O, O, O, O, O, O, O, O, ...</td>\n",
       "    </tr>\n",
       "    <tr>\n",
       "      <th>2511</th>\n",
       "      <td>2511</td>\n",
       "      <td>[《, 前, 线, 任, 务, 》, 系, 列, 是, 1, 9, 9, 5, 年, 发, ...</td>\n",
       "      <td>[B-game, I-game, I-game, I-game, I-game, I-gam...</td>\n",
       "    </tr>\n",
       "    <tr>\n",
       "      <th>2512</th>\n",
       "      <td>2512</td>\n",
       "      <td>[还, 能, 在, 著, 名, 的, 雅, 拉, 河, 中, 坐, 游, 船, 感, 受, ...</td>\n",
       "      <td>[O, O, O, O, O, O, B-scene, I-scene, I-scene, ...</td>\n",
       "    </tr>\n",
       "    <tr>\n",
       "      <th>2513</th>\n",
       "      <td>2513</td>\n",
       "      <td>[馬, 來, 西, 亞, 、, 中, 國, 演, 員, 、, 藝, 人, ., 香, 港, ...</td>\n",
       "      <td>[B-address, I-address, I-address, I-address, O...</td>\n",
       "    </tr>\n",
       "    <tr>\n",
       "      <th>2514</th>\n",
       "      <td>2514</td>\n",
       "      <td>[Q, Q, 交, 流, 群, ：, 2, 2, 9, 2, 1, 5, 7, 5, 7, ...</td>\n",
       "      <td>[O, O, O, O, O, O, B-QQ, I-QQ, I-QQ, I-QQ, I-Q...</td>\n",
       "    </tr>\n",
       "  </tbody>\n",
       "</table>\n",
       "</div>"
      ],
      "text/plain": [
       "        ID                                               Text  \\\n",
       "2510  2510  [“, 这, 起, 案, 件, 之, 所, 以, 近, 半, 年, 才, 暴, 露, ，, ...   \n",
       "2511  2511  [《, 前, 线, 任, 务, 》, 系, 列, 是, 1, 9, 9, 5, 年, 发, ...   \n",
       "2512  2512  [还, 能, 在, 著, 名, 的, 雅, 拉, 河, 中, 坐, 游, 船, 感, 受, ...   \n",
       "2513  2513  [馬, 來, 西, 亞, 、, 中, 國, 演, 員, 、, 藝, 人, ., 香, 港, ...   \n",
       "2514  2514  [Q, Q, 交, 流, 群, ：, 2, 2, 9, 2, 1, 5, 7, 5, 7, ...   \n",
       "\n",
       "                                                  Label  \n",
       "2510  [O, O, O, O, O, O, O, O, O, O, O, O, O, O, O, ...  \n",
       "2511  [B-game, I-game, I-game, I-game, I-game, I-gam...  \n",
       "2512  [O, O, O, O, O, O, B-scene, I-scene, I-scene, ...  \n",
       "2513  [B-address, I-address, I-address, I-address, O...  \n",
       "2514  [O, O, O, O, O, O, B-QQ, I-QQ, I-QQ, I-QQ, I-Q...  "
      ]
     },
     "execution_count": 18,
     "metadata": {},
     "output_type": "execute_result"
    }
   ],
   "source": [
    "data.tail(5)"
   ]
  },
  {
   "cell_type": "markdown",
   "metadata": {},
   "source": [
    "## 将Label转换为Category index"
   ]
  },
  {
   "cell_type": "code",
   "execution_count": 19,
   "metadata": {},
   "outputs": [],
   "source": [
    "data['Label'] = data['Label'].apply(lambda x: [category2idx[label] for label in x])"
   ]
  },
  {
   "cell_type": "code",
   "execution_count": 20,
   "metadata": {},
   "outputs": [
    {
     "data": {
      "text/html": [
       "<div>\n",
       "<style scoped>\n",
       "    .dataframe tbody tr th:only-of-type {\n",
       "        vertical-align: middle;\n",
       "    }\n",
       "\n",
       "    .dataframe tbody tr th {\n",
       "        vertical-align: top;\n",
       "    }\n",
       "\n",
       "    .dataframe thead th {\n",
       "        text-align: right;\n",
       "    }\n",
       "</style>\n",
       "<table border=\"1\" class=\"dataframe\">\n",
       "  <thead>\n",
       "    <tr style=\"text-align: right;\">\n",
       "      <th></th>\n",
       "      <th>ID</th>\n",
       "      <th>Text</th>\n",
       "      <th>Label</th>\n",
       "    </tr>\n",
       "  </thead>\n",
       "  <tbody>\n",
       "    <tr>\n",
       "      <th>2510</th>\n",
       "      <td>2510</td>\n",
       "      <td>[“, 这, 起, 案, 件, 之, 所, 以, 近, 半, 年, 才, 暴, 露, ，, ...</td>\n",
       "      <td>[0, 0, 0, 0, 0, 0, 0, 0, 0, 0, 0, 0, 0, 0, 0, ...</td>\n",
       "    </tr>\n",
       "    <tr>\n",
       "      <th>2511</th>\n",
       "      <td>2511</td>\n",
       "      <td>[《, 前, 线, 任, 务, 》, 系, 列, 是, 1, 9, 9, 5, 年, 发, ...</td>\n",
       "      <td>[21, 22, 22, 22, 22, 22, 0, 0, 0, 0, 0, 0, 0, ...</td>\n",
       "    </tr>\n",
       "    <tr>\n",
       "      <th>2512</th>\n",
       "      <td>2512</td>\n",
       "      <td>[还, 能, 在, 著, 名, 的, 雅, 拉, 河, 中, 坐, 游, 船, 感, 受, ...</td>\n",
       "      <td>[0, 0, 0, 0, 0, 0, 15, 16, 16, 0, 0, 0, 0, 0, ...</td>\n",
       "    </tr>\n",
       "    <tr>\n",
       "      <th>2513</th>\n",
       "      <td>2513</td>\n",
       "      <td>[馬, 來, 西, 亞, 、, 中, 國, 演, 員, 、, 藝, 人, ., 香, 港, ...</td>\n",
       "      <td>[13, 14, 14, 14, 0, 13, 14, 0, 0, 0, 0, 0, 0, ...</td>\n",
       "    </tr>\n",
       "    <tr>\n",
       "      <th>2514</th>\n",
       "      <td>2514</td>\n",
       "      <td>[Q, Q, 交, 流, 群, ：, 2, 2, 9, 2, 1, 5, 7, 5, 7, ...</td>\n",
       "      <td>[0, 0, 0, 0, 0, 0, 25, 26, 26, 26, 26, 26, 26,...</td>\n",
       "    </tr>\n",
       "  </tbody>\n",
       "</table>\n",
       "</div>"
      ],
      "text/plain": [
       "        ID                                               Text  \\\n",
       "2510  2510  [“, 这, 起, 案, 件, 之, 所, 以, 近, 半, 年, 才, 暴, 露, ，, ...   \n",
       "2511  2511  [《, 前, 线, 任, 务, 》, 系, 列, 是, 1, 9, 9, 5, 年, 发, ...   \n",
       "2512  2512  [还, 能, 在, 著, 名, 的, 雅, 拉, 河, 中, 坐, 游, 船, 感, 受, ...   \n",
       "2513  2513  [馬, 來, 西, 亞, 、, 中, 國, 演, 員, 、, 藝, 人, ., 香, 港, ...   \n",
       "2514  2514  [Q, Q, 交, 流, 群, ：, 2, 2, 9, 2, 1, 5, 7, 5, 7, ...   \n",
       "\n",
       "                                                  Label  \n",
       "2510  [0, 0, 0, 0, 0, 0, 0, 0, 0, 0, 0, 0, 0, 0, 0, ...  \n",
       "2511  [21, 22, 22, 22, 22, 22, 0, 0, 0, 0, 0, 0, 0, ...  \n",
       "2512  [0, 0, 0, 0, 0, 0, 15, 16, 16, 0, 0, 0, 0, 0, ...  \n",
       "2513  [13, 14, 14, 14, 0, 13, 14, 0, 0, 0, 0, 0, 0, ...  \n",
       "2514  [0, 0, 0, 0, 0, 0, 25, 26, 26, 26, 26, 26, 26,...  "
      ]
     },
     "execution_count": 20,
     "metadata": {},
     "output_type": "execute_result"
    }
   ],
   "source": [
    "data.tail(5)"
   ]
  },
  {
   "cell_type": "markdown",
   "metadata": {},
   "source": [
    "## 保存处理后数据到磁盘"
   ]
  },
  {
   "cell_type": "code",
   "execution_count": 21,
   "metadata": {},
   "outputs": [],
   "source": [
    "data.rename(columns={'ID': 'id', 'Text': 'tokens', 'Label': 'ner_tags'}, inplace=True)"
   ]
  },
  {
   "cell_type": "code",
   "execution_count": 22,
   "metadata": {},
   "outputs": [
    {
     "data": {
      "text/html": [
       "<div>\n",
       "<style scoped>\n",
       "    .dataframe tbody tr th:only-of-type {\n",
       "        vertical-align: middle;\n",
       "    }\n",
       "\n",
       "    .dataframe tbody tr th {\n",
       "        vertical-align: top;\n",
       "    }\n",
       "\n",
       "    .dataframe thead th {\n",
       "        text-align: right;\n",
       "    }\n",
       "</style>\n",
       "<table border=\"1\" class=\"dataframe\">\n",
       "  <thead>\n",
       "    <tr style=\"text-align: right;\">\n",
       "      <th></th>\n",
       "      <th>id</th>\n",
       "      <th>tokens</th>\n",
       "      <th>ner_tags</th>\n",
       "    </tr>\n",
       "  </thead>\n",
       "  <tbody>\n",
       "    <tr>\n",
       "      <th>2510</th>\n",
       "      <td>2510</td>\n",
       "      <td>[“, 这, 起, 案, 件, 之, 所, 以, 近, 半, 年, 才, 暴, 露, ，, ...</td>\n",
       "      <td>[0, 0, 0, 0, 0, 0, 0, 0, 0, 0, 0, 0, 0, 0, 0, ...</td>\n",
       "    </tr>\n",
       "    <tr>\n",
       "      <th>2511</th>\n",
       "      <td>2511</td>\n",
       "      <td>[《, 前, 线, 任, 务, 》, 系, 列, 是, 1, 9, 9, 5, 年, 发, ...</td>\n",
       "      <td>[21, 22, 22, 22, 22, 22, 0, 0, 0, 0, 0, 0, 0, ...</td>\n",
       "    </tr>\n",
       "    <tr>\n",
       "      <th>2512</th>\n",
       "      <td>2512</td>\n",
       "      <td>[还, 能, 在, 著, 名, 的, 雅, 拉, 河, 中, 坐, 游, 船, 感, 受, ...</td>\n",
       "      <td>[0, 0, 0, 0, 0, 0, 15, 16, 16, 0, 0, 0, 0, 0, ...</td>\n",
       "    </tr>\n",
       "    <tr>\n",
       "      <th>2513</th>\n",
       "      <td>2513</td>\n",
       "      <td>[馬, 來, 西, 亞, 、, 中, 國, 演, 員, 、, 藝, 人, ., 香, 港, ...</td>\n",
       "      <td>[13, 14, 14, 14, 0, 13, 14, 0, 0, 0, 0, 0, 0, ...</td>\n",
       "    </tr>\n",
       "    <tr>\n",
       "      <th>2514</th>\n",
       "      <td>2514</td>\n",
       "      <td>[Q, Q, 交, 流, 群, ：, 2, 2, 9, 2, 1, 5, 7, 5, 7, ...</td>\n",
       "      <td>[0, 0, 0, 0, 0, 0, 25, 26, 26, 26, 26, 26, 26,...</td>\n",
       "    </tr>\n",
       "  </tbody>\n",
       "</table>\n",
       "</div>"
      ],
      "text/plain": [
       "        id                                             tokens  \\\n",
       "2510  2510  [“, 这, 起, 案, 件, 之, 所, 以, 近, 半, 年, 才, 暴, 露, ，, ...   \n",
       "2511  2511  [《, 前, 线, 任, 务, 》, 系, 列, 是, 1, 9, 9, 5, 年, 发, ...   \n",
       "2512  2512  [还, 能, 在, 著, 名, 的, 雅, 拉, 河, 中, 坐, 游, 船, 感, 受, ...   \n",
       "2513  2513  [馬, 來, 西, 亞, 、, 中, 國, 演, 員, 、, 藝, 人, ., 香, 港, ...   \n",
       "2514  2514  [Q, Q, 交, 流, 群, ：, 2, 2, 9, 2, 1, 5, 7, 5, 7, ...   \n",
       "\n",
       "                                               ner_tags  \n",
       "2510  [0, 0, 0, 0, 0, 0, 0, 0, 0, 0, 0, 0, 0, 0, 0, ...  \n",
       "2511  [21, 22, 22, 22, 22, 22, 0, 0, 0, 0, 0, 0, 0, ...  \n",
       "2512  [0, 0, 0, 0, 0, 0, 15, 16, 16, 0, 0, 0, 0, 0, ...  \n",
       "2513  [13, 14, 14, 14, 0, 13, 14, 0, 0, 0, 0, 0, 0, ...  \n",
       "2514  [0, 0, 0, 0, 0, 0, 25, 26, 26, 26, 26, 26, 26,...  "
      ]
     },
     "execution_count": 22,
     "metadata": {},
     "output_type": "execute_result"
    }
   ],
   "source": [
    "data.tail(5)"
   ]
  },
  {
   "cell_type": "code",
   "execution_count": 26,
   "metadata": {},
   "outputs": [],
   "source": [
    "data.to_csv(os.path.join('data', 'processed', 'data.csv'), index=False)"
   ]
  },
  {
   "cell_type": "code",
   "execution_count": null,
   "metadata": {},
   "outputs": [
    {
     "data": {
      "text/html": [
       "<div>\n",
       "<style scoped>\n",
       "    .dataframe tbody tr th:only-of-type {\n",
       "        vertical-align: middle;\n",
       "    }\n",
       "\n",
       "    .dataframe tbody tr th {\n",
       "        vertical-align: top;\n",
       "    }\n",
       "\n",
       "    .dataframe thead th {\n",
       "        text-align: right;\n",
       "    }\n",
       "</style>\n",
       "<table border=\"1\" class=\"dataframe\">\n",
       "  <thead>\n",
       "    <tr style=\"text-align: right;\">\n",
       "      <th></th>\n",
       "      <th>category</th>\n",
       "      <th>index</th>\n",
       "    </tr>\n",
       "  </thead>\n",
       "  <tbody>\n",
       "    <tr>\n",
       "      <th>0</th>\n",
       "      <td>O</td>\n",
       "      <td>0</td>\n",
       "    </tr>\n",
       "    <tr>\n",
       "      <th>1</th>\n",
       "      <td>B-position</td>\n",
       "      <td>1</td>\n",
       "    </tr>\n",
       "    <tr>\n",
       "      <th>2</th>\n",
       "      <td>I-position</td>\n",
       "      <td>2</td>\n",
       "    </tr>\n",
       "    <tr>\n",
       "      <th>3</th>\n",
       "      <td>B-name</td>\n",
       "      <td>3</td>\n",
       "    </tr>\n",
       "    <tr>\n",
       "      <th>4</th>\n",
       "      <td>I-name</td>\n",
       "      <td>4</td>\n",
       "    </tr>\n",
       "    <tr>\n",
       "      <th>5</th>\n",
       "      <td>B-movie</td>\n",
       "      <td>5</td>\n",
       "    </tr>\n",
       "    <tr>\n",
       "      <th>6</th>\n",
       "      <td>I-movie</td>\n",
       "      <td>6</td>\n",
       "    </tr>\n",
       "    <tr>\n",
       "      <th>7</th>\n",
       "      <td>B-organization</td>\n",
       "      <td>7</td>\n",
       "    </tr>\n",
       "    <tr>\n",
       "      <th>8</th>\n",
       "      <td>I-organization</td>\n",
       "      <td>8</td>\n",
       "    </tr>\n",
       "    <tr>\n",
       "      <th>9</th>\n",
       "      <td>B-company</td>\n",
       "      <td>9</td>\n",
       "    </tr>\n",
       "    <tr>\n",
       "      <th>10</th>\n",
       "      <td>I-company</td>\n",
       "      <td>10</td>\n",
       "    </tr>\n",
       "    <tr>\n",
       "      <th>11</th>\n",
       "      <td>B-book</td>\n",
       "      <td>11</td>\n",
       "    </tr>\n",
       "    <tr>\n",
       "      <th>12</th>\n",
       "      <td>I-book</td>\n",
       "      <td>12</td>\n",
       "    </tr>\n",
       "    <tr>\n",
       "      <th>13</th>\n",
       "      <td>B-address</td>\n",
       "      <td>13</td>\n",
       "    </tr>\n",
       "    <tr>\n",
       "      <th>14</th>\n",
       "      <td>I-address</td>\n",
       "      <td>14</td>\n",
       "    </tr>\n",
       "    <tr>\n",
       "      <th>15</th>\n",
       "      <td>B-scene</td>\n",
       "      <td>15</td>\n",
       "    </tr>\n",
       "    <tr>\n",
       "      <th>16</th>\n",
       "      <td>I-scene</td>\n",
       "      <td>16</td>\n",
       "    </tr>\n",
       "    <tr>\n",
       "      <th>17</th>\n",
       "      <td>B-mobile</td>\n",
       "      <td>17</td>\n",
       "    </tr>\n",
       "    <tr>\n",
       "      <th>18</th>\n",
       "      <td>I-mobile</td>\n",
       "      <td>18</td>\n",
       "    </tr>\n",
       "    <tr>\n",
       "      <th>19</th>\n",
       "      <td>B-email</td>\n",
       "      <td>19</td>\n",
       "    </tr>\n",
       "    <tr>\n",
       "      <th>20</th>\n",
       "      <td>I-email</td>\n",
       "      <td>20</td>\n",
       "    </tr>\n",
       "    <tr>\n",
       "      <th>21</th>\n",
       "      <td>B-game</td>\n",
       "      <td>21</td>\n",
       "    </tr>\n",
       "    <tr>\n",
       "      <th>22</th>\n",
       "      <td>I-game</td>\n",
       "      <td>22</td>\n",
       "    </tr>\n",
       "    <tr>\n",
       "      <th>23</th>\n",
       "      <td>B-government</td>\n",
       "      <td>23</td>\n",
       "    </tr>\n",
       "    <tr>\n",
       "      <th>24</th>\n",
       "      <td>I-government</td>\n",
       "      <td>24</td>\n",
       "    </tr>\n",
       "    <tr>\n",
       "      <th>25</th>\n",
       "      <td>B-QQ</td>\n",
       "      <td>25</td>\n",
       "    </tr>\n",
       "    <tr>\n",
       "      <th>26</th>\n",
       "      <td>I-QQ</td>\n",
       "      <td>26</td>\n",
       "    </tr>\n",
       "    <tr>\n",
       "      <th>27</th>\n",
       "      <td>B-vx</td>\n",
       "      <td>27</td>\n",
       "    </tr>\n",
       "    <tr>\n",
       "      <th>28</th>\n",
       "      <td>I-vx</td>\n",
       "      <td>28</td>\n",
       "    </tr>\n",
       "  </tbody>\n",
       "</table>\n",
       "</div>"
      ],
      "text/plain": [
       "          category  index\n",
       "0                O      0\n",
       "1       B-position      1\n",
       "2       I-position      2\n",
       "3           B-name      3\n",
       "4           I-name      4\n",
       "5          B-movie      5\n",
       "6          I-movie      6\n",
       "7   B-organization      7\n",
       "8   I-organization      8\n",
       "9        B-company      9\n",
       "10       I-company     10\n",
       "11          B-book     11\n",
       "12          I-book     12\n",
       "13       B-address     13\n",
       "14       I-address     14\n",
       "15         B-scene     15\n",
       "16         I-scene     16\n",
       "17        B-mobile     17\n",
       "18        I-mobile     18\n",
       "19         B-email     19\n",
       "20         I-email     20\n",
       "21          B-game     21\n",
       "22          I-game     22\n",
       "23    B-government     23\n",
       "24    I-government     24\n",
       "25            B-QQ     25\n",
       "26            I-QQ     26\n",
       "27            B-vx     27\n",
       "28            I-vx     28"
      ]
     },
     "execution_count": 48,
     "metadata": {},
     "output_type": "execute_result"
    }
   ],
   "source": [
    "categories_df = pd.Series(category2idx).to_frame().reset_index()\n",
    "categories_df.columns = ['category', 'index']\n",
    "categories_df"
   ]
  },
  {
   "cell_type": "code",
   "execution_count": null,
   "metadata": {},
   "outputs": [],
   "source": [
    "categories_df.to_csv(os.path.join('data', 'processed', 'categories.csv'), index=False)"
   ]
  },
  {
   "cell_type": "code",
   "execution_count": null,
   "metadata": {},
   "outputs": [],
   "source": []
  }
 ],
 "metadata": {
  "kernelspec": {
   "display_name": "Python 3.10.10 ('ADMM')",
   "language": "python",
   "name": "python3"
  },
  "language_info": {
   "codemirror_mode": {
    "name": "ipython",
    "version": 3
   },
   "file_extension": ".py",
   "mimetype": "text/x-python",
   "name": "python",
   "nbconvert_exporter": "python",
   "pygments_lexer": "ipython3",
   "version": "3.8.16"
  },
  "orig_nbformat": 4,
  "vscode": {
   "interpreter": {
    "hash": "812773d9390504bc29ef9988f01e5f691fe2c7dd3271bdfe9a90bc479fcbe9db"
   }
  }
 },
 "nbformat": 4,
 "nbformat_minor": 2
}
