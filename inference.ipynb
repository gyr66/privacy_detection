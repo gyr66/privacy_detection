{
 "cells": [
  {
   "cell_type": "code",
   "execution_count": 13,
   "metadata": {},
   "outputs": [],
   "source": [
    "from transformers import AutoModelForTokenClassification, AutoTokenizer, pipeline\n",
    "\n",
    "\n",
    "model = AutoModelForTokenClassification.from_pretrained(\"RoBERTa-ext-large-chinese-finetuned-ner\")\n",
    "tokenizer = AutoTokenizer.from_pretrained(\"RoBERTa-ext-large-chinese-finetuned-ner\", model_max_length=512)\n",
    "pipe = pipeline(\"token-classification\", model=model, tokenizer=tokenizer, device=1, aggregation_strategy='simple')"
   ]
  },
  {
   "cell_type": "code",
   "execution_count": 15,
   "metadata": {},
   "outputs": [],
   "source": [
    "def transform_output(entities, _id):\n",
    "    result = []\n",
    "    for entity in entities:\n",
    "        category = entity['entity_group']\n",
    "        word = entity['word'].replace(' ', '')\n",
    "        start = entity['start']\n",
    "        end = entity['end'] - 1\n",
    "        result.append({\n",
    "            'ID': _id,\n",
    "            'Category': category,\n",
    "            'Pos_b': start, \n",
    "            'Pos_e': end,\n",
    "            'Privacy': word\n",
    "        })\n",
    "    return result"
   ]
  },
  {
   "cell_type": "code",
   "execution_count": 16,
   "metadata": {},
   "outputs": [],
   "source": [
    "import pandas as pd\n",
    "import os"
   ]
  },
  {
   "cell_type": "code",
   "execution_count": 19,
   "metadata": {},
   "outputs": [],
   "source": [
    "text_list = []\n",
    "id_list = []\n",
    "res = []\n",
    "for filename in sorted(os.listdir('data/original/test/text'), key=lambda x: int(x.split('.')[0])):\n",
    "    with open(os.path.join('data/original/test/text', filename), 'r') as f:\n",
    "        text = f.read()\n",
    "    id_list.append(filename.split('.')[0])\n",
    "    text_list.append(text)\n",
    "output_list = pipe(text_list, batch_size=64)\n",
    "for _id, output in zip(id_list, output_list):\n",
    "    output = transform_output(output, _id)\n",
    "    res.extend(output)\n",
    "df = pd.DataFrame(res)\n",
    "df.to_csv('data/original/test/predict.csv', encoding='utf-8', index=False)"
   ]
  },
  {
   "cell_type": "code",
   "execution_count": 20,
   "metadata": {},
   "outputs": [
    {
     "data": {
      "text/html": [
       "<div>\n",
       "<style scoped>\n",
       "    .dataframe tbody tr th:only-of-type {\n",
       "        vertical-align: middle;\n",
       "    }\n",
       "\n",
       "    .dataframe tbody tr th {\n",
       "        vertical-align: top;\n",
       "    }\n",
       "\n",
       "    .dataframe thead th {\n",
       "        text-align: right;\n",
       "    }\n",
       "</style>\n",
       "<table border=\"1\" class=\"dataframe\">\n",
       "  <thead>\n",
       "    <tr style=\"text-align: right;\">\n",
       "      <th></th>\n",
       "      <th>ID</th>\n",
       "      <th>Category</th>\n",
       "      <th>Pos_b</th>\n",
       "      <th>Pos_e</th>\n",
       "      <th>Privacy</th>\n",
       "    </tr>\n",
       "  </thead>\n",
       "  <tbody>\n",
       "    <tr>\n",
       "      <th>0</th>\n",
       "      <td>0</td>\n",
       "      <td>book</td>\n",
       "      <td>0</td>\n",
       "      <td>10</td>\n",
       "      <td>《别告诉我你懂ppt》</td>\n",
       "    </tr>\n",
       "    <tr>\n",
       "      <th>1</th>\n",
       "      <td>0</td>\n",
       "      <td>book</td>\n",
       "      <td>11</td>\n",
       "      <td>23</td>\n",
       "      <td>《不懂项目管理还敢拼职场》</td>\n",
       "    </tr>\n",
       "    <tr>\n",
       "      <th>2</th>\n",
       "      <td>0</td>\n",
       "      <td>book</td>\n",
       "      <td>24</td>\n",
       "      <td>31</td>\n",
       "      <td>《让营销更性感》</td>\n",
       "    </tr>\n",
       "    <tr>\n",
       "      <th>3</th>\n",
       "      <td>0</td>\n",
       "      <td>position</td>\n",
       "      <td>33</td>\n",
       "      <td>34</td>\n",
       "      <td>作者</td>\n",
       "    </tr>\n",
       "    <tr>\n",
       "      <th>4</th>\n",
       "      <td>0</td>\n",
       "      <td>name</td>\n",
       "      <td>35</td>\n",
       "      <td>36</td>\n",
       "      <td>李治</td>\n",
       "    </tr>\n",
       "  </tbody>\n",
       "</table>\n",
       "</div>"
      ],
      "text/plain": [
       "  ID  Category  Pos_b  Pos_e        Privacy\n",
       "0  0      book      0     10    《别告诉我你懂ppt》\n",
       "1  0      book     11     23  《不懂项目管理还敢拼职场》\n",
       "2  0      book     24     31       《让营销更性感》\n",
       "3  0  position     33     34             作者\n",
       "4  0      name     35     36             李治"
      ]
     },
     "execution_count": 20,
     "metadata": {},
     "output_type": "execute_result"
    }
   ],
   "source": [
    "df.head(5)"
   ]
  },
  {
   "cell_type": "code",
   "execution_count": null,
   "metadata": {},
   "outputs": [],
   "source": []
  }
 ],
 "metadata": {
  "kernelspec": {
   "display_name": "Python 3.10.10 ('ADMM')",
   "language": "python",
   "name": "python3"
  },
  "language_info": {
   "codemirror_mode": {
    "name": "ipython",
    "version": 3
   },
   "file_extension": ".py",
   "mimetype": "text/x-python",
   "name": "python",
   "nbconvert_exporter": "python",
   "pygments_lexer": "ipython3",
   "version": "3.10.10"
  },
  "orig_nbformat": 4,
  "vscode": {
   "interpreter": {
    "hash": "812773d9390504bc29ef9988f01e5f691fe2c7dd3271bdfe9a90bc479fcbe9db"
   }
  }
 },
 "nbformat": 4,
 "nbformat_minor": 2
}
