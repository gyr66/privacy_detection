{
 "cells": [
  {
   "cell_type": "code",
   "execution_count": 2,
   "metadata": {},
   "outputs": [],
   "source": [
    "from transformers import pipeline\n",
    "\n",
    "pipe = pipeline(\"token-classification\", model=\"gyr66/bert-base-chinese-finetuned-ner\", device=1)"
   ]
  },
  {
   "cell_type": "code",
   "execution_count": 3,
   "metadata": {},
   "outputs": [],
   "source": [
    "def transform_output(entities, _id):\n",
    "    result = []\n",
    "    i = 0\n",
    "    while i < len(entities):\n",
    "        entity = entities[i]\n",
    "        # Remove the 'B-' or 'I-' prefix from the category\n",
    "        category = entity['entity'][2:]\n",
    "        word = entity['word']\n",
    "        start = entity['start']\n",
    "        end = entity['end'] - 1  # Subtract 1 from the end position\n",
    "        # Check if there are 'I-' entities following this 'B-' entity\n",
    "        while i + 1 < len(entities) and entities[i + 1]['entity'].startswith('I-'):\n",
    "            i += 1\n",
    "            word += entities[i]['word']\n",
    "            end = entities[i]['end'] - 1  # Subtract 1 from the end position\n",
    "        result.append({\n",
    "            'ID': _id,\n",
    "            'Category': category,\n",
    "            'Pos_b': start, \n",
    "            'Pos_e': end,\n",
    "            'Privacy': word\n",
    "        })\n",
    "        i += 1\n",
    "    return result"
   ]
  },
  {
   "cell_type": "code",
   "execution_count": 6,
   "metadata": {},
   "outputs": [],
   "source": [
    "import pandas as pd\n",
    "import os"
   ]
  },
  {
   "cell_type": "code",
   "execution_count": 7,
   "metadata": {},
   "outputs": [
    {
     "data": {
      "application/vnd.jupyter.widget-view+json": {
       "model_id": "6af5c1f45a354789ab8d0d2f010c2541",
       "version_major": 2,
       "version_minor": 0
      },
      "text/plain": [
       "  0%|          | 0/3956 [00:00<?, ?it/s]"
      ]
     },
     "metadata": {},
     "output_type": "display_data"
    }
   ],
   "source": [
    "text_list = []\n",
    "id_list = []\n",
    "res = []\n",
    "for filename in sorted(os.listdir('data/original/test/text'), key=lambda x: int(x.split('.')[0])):\n",
    "    with open(os.path.join('data/original/test/text', filename), 'r') as f:\n",
    "        text = f.read()\n",
    "    id_list.append(filename.split('.')[0])\n",
    "    text_list.append(text)\n",
    "output_list = pipe(text_list, batch_size=64)\n",
    "for _id, output in zip(id_list, output_list):\n",
    "    output = transform_output(output, _id)\n",
    "    res.extend(output)\n",
    "df = pd.DataFrame(res)\n",
    "df.to_csv('data/original/test/predict.csv', encoding='utf-8', index=False)"
   ]
  },
  {
   "cell_type": "code",
   "execution_count": null,
   "metadata": {},
   "outputs": [],
   "source": []
  }
 ],
 "metadata": {
  "kernelspec": {
   "display_name": "Python 3.10.10 ('ADMM')",
   "language": "python",
   "name": "python3"
  },
  "language_info": {
   "codemirror_mode": {
    "name": "ipython",
    "version": 3
   },
   "file_extension": ".py",
   "mimetype": "text/x-python",
   "name": "python",
   "nbconvert_exporter": "python",
   "pygments_lexer": "ipython3",
   "version": "3.10.10"
  },
  "orig_nbformat": 4,
  "vscode": {
   "interpreter": {
    "hash": "812773d9390504bc29ef9988f01e5f691fe2c7dd3271bdfe9a90bc479fcbe9db"
   }
  }
 },
 "nbformat": 4,
 "nbformat_minor": 2
}
